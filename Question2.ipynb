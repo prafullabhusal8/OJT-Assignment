{
  "nbformat": 4,
  "nbformat_minor": 0,
  "metadata": {
    "colab": {
      "provenance": []
    },
    "kernelspec": {
      "name": "python3",
      "display_name": "Python 3"
    },
    "language_info": {
      "name": "python"
    }
  },
  "cells": [
    {
      "cell_type": "code",
      "source": [
        "Q2. Row Echelon Form:\n",
        "Create a 5x5 matrix, A, with entries randomly chosen integers between 0 and 9. To generate the\n",
        "random matrix, set the random seed as the last two digits of your roll number. Reduce matrix A to its\n",
        "Row Echelon Form by performing elementary row operations."
      ],
      "metadata": {
        "id": "EFd_egCqJt3y"
      },
      "execution_count": null,
      "outputs": []
    },
    {
      "cell_type": "code",
      "source": [
        "import numpy as np\n",
        "\n",
        "seed = 20\n",
        "np.random.seed(seed)\n",
        "\n",
        "\n",
        "A = np.random.randint(0, 10, (5, 5))\n",
        "\n",
        "\n",
        "print(\"Original Matrix A:\")\n",
        "print(A)\n",
        "print()\n",
        "\n",
        "A = A.astype(float)\n",
        "for i in range(5):\n",
        "    # Find the first nonzero entry in the current row\n",
        "    pivot = np.argmax(A[i] != 0)\n",
        "    if pivot == len(A):  # Skip if row is all zeros\n",
        "        continue\n",
        "\n",
        "\n",
        "    A[[i, pivot]] = A[[pivot, i]]\n",
        "\n",
        "\n",
        "    A[i] /= A[i, i]\n",
        "\n",
        "    for k in range(i + 1, 5):\n",
        "        A[k] -= A[k, i] * A[i]\n",
        "\n",
        "\n",
        "print(\"Row Echelon Form of Matrix A:\")\n",
        "print(A)"
      ],
      "metadata": {
        "id": "F-NCktn0iXWX",
        "colab": {
          "base_uri": "https://localhost:8080/"
        },
        "outputId": "faa4331c-0713-4721-95a3-011111811083"
      },
      "execution_count": 2,
      "outputs": [
        {
          "output_type": "stream",
          "name": "stdout",
          "text": [
            "Original Matrix A:\n",
            "[[3 9 4 6 7]\n",
            " [2 0 6 8 5]\n",
            " [3 0 6 6 0]\n",
            " [9 5 7 5 2]\n",
            " [6 9 3 3 9]]\n",
            "\n",
            "Row Echelon Form of Matrix A:\n",
            "[[ 1.          3.          1.33333333  2.          2.33333333]\n",
            " [-0.          1.         -0.55555556 -0.66666667 -0.05555556]\n",
            " [-0.         -0.          1.          2.          2.5       ]\n",
            " [ 0.          0.          0.          1.          3.36885246]\n",
            " [ 0.          0.          0.          0.          1.        ]]\n"
          ]
        }
      ]
    },
    {
      "cell_type": "code",
      "source": [],
      "metadata": {
        "id": "0lnPy6loJq9-"
      },
      "execution_count": null,
      "outputs": []
    },
    {
      "cell_type": "code",
      "source": [],
      "metadata": {
        "id": "GegLqiOVJoCz"
      },
      "execution_count": null,
      "outputs": []
    },
    {
      "cell_type": "code",
      "source": [],
      "metadata": {
        "id": "ma00jMU7monL"
      },
      "execution_count": null,
      "outputs": []
    }
  ]
}