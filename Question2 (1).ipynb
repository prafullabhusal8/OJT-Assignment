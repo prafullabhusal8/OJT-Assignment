{
 "cells": [
  {
   "cell_type": "markdown",
   "id": "8cf65146-9df3-4a0f-92ae-47db69bc027c",
   "metadata": {},
   "source": [
    "# Q2. Row Echelon Form:"
   ]
  },
  {
   "cell_type": "markdown",
   "id": "236c7135-7473-497d-9f39-f400d0782d2b",
   "metadata": {},
   "source": [
    " Create a 5x5 matrix, A, with entries randomly chosen integers between 0 and 9. To generate the random matrix, set the random seed as the last two digits of your roll number. Reduce matrix A to its Row Echelon Form by performing elementary row operations"
   ]
  },
  {
   "cell_type": "code",
   "execution_count": 7,
   "id": "56b9e3b0-9366-4649-8c9b-0d748da0dd46",
   "metadata": {},
   "outputs": [
    {
     "name": "stdout",
     "output_type": "stream",
     "text": [
      "Original Matrix A:\n",
      "[[4 9 6 3 3]\n",
      " [7 7 9 7 8]\n",
      " [9 8 7 6 4]\n",
      " [0 7 0 7 6]\n",
      " [3 5 8 8 7]]\n",
      "\n"
     ]
    }
   ],
   "source": [
    "import numpy as np\n",
    "\n",
    "seed = 7\n",
    "np.random.seed(seed)\n",
    "\n",
    "\n",
    "A = np.random.randint(0, 10, (5, 5))\n",
    "\n",
    "\n",
    "print(\"Original Matrix A:\")\n",
    "print(A)\n",
    "print()"
   ]
  },
  {
   "cell_type": "code",
   "execution_count": 8,
   "id": "205602fd-a093-4af7-80b9-f958d1be9929",
   "metadata": {},
   "outputs": [
    {
     "name": "stdout",
     "output_type": "stream",
     "text": [
      "Row Echelon Form of Matrix A:\n",
      "[[ 1.          2.25        1.5         0.75        0.75      ]\n",
      " [-0.          1.          0.17142857 -0.2        -0.31428571]\n",
      " [-0.         -0.          1.          0.72727273  1.5       ]\n",
      " [ 0.          0.          0.          1.          1.07843137]\n",
      " [-0.         -0.         -0.         -0.          1.        ]]\n"
     ]
    }
   ],
   "source": [
    "A = A.astype(float)\n",
    "for i in range(5):\n",
    "    # Find the first nonzero entry in the current row\n",
    "    pivot = np.argmax(A[i] != 0)\n",
    "    if pivot == len(A):  # Skip if row is all zeros\n",
    "        continue\n",
    "\n",
    "\n",
    "    A[[i, pivot]] = A[[pivot, i]]\n",
    "\n",
    "\n",
    "    A[i] /= A[i, i]\n",
    "\n",
    "    for k in range(i + 1, 5):\n",
    "        A[k] -= A[k, i] * A[i]\n",
    "\n",
    "\n",
    "print(\"Row Echelon Form of Matrix A:\")\n",
    "print(A)"
   ]
  },
  {
   "cell_type": "code",
   "execution_count": null,
   "id": "ca511620-af90-41cb-84a2-14c8bf5b2067",
   "metadata": {},
   "outputs": [],
   "source": []
  }
 ],
 "metadata": {
  "kernelspec": {
   "display_name": "Python 3 (ipykernel)",
   "language": "python",
   "name": "python3"
  },
  "language_info": {
   "codemirror_mode": {
    "name": "ipython",
    "version": 3
   },
   "file_extension": ".py",
   "mimetype": "text/x-python",
   "name": "python",
   "nbconvert_exporter": "python",
   "pygments_lexer": "ipython3",
   "version": "3.11.7"
  }
 },
 "nbformat": 4,
 "nbformat_minor": 5
}
